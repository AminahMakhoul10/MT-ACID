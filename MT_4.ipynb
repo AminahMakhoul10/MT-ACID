{
  "nbformat": 4,
  "nbformat_minor": 0,
  "metadata": {
    "colab": {
      "provenance": [],
      "authorship_tag": "ABX9TyNtqqpzpgrTUmaiDwWg96UI",
      "include_colab_link": true
    },
    "kernelspec": {
      "name": "python3",
      "display_name": "Python 3"
    },
    "language_info": {
      "name": "python"
    }
  },
  "cells": [
    {
      "cell_type": "markdown",
      "metadata": {
        "id": "view-in-github",
        "colab_type": "text"
      },
      "source": [
        "<a href=\"https://colab.research.google.com/github/AminahMakhoul10/MT-ACID/blob/main/MT_4.ipynb\" target=\"_parent\"><img src=\"https://colab.research.google.com/assets/colab-badge.svg\" alt=\"Open In Colab\"/></a>"
      ]
    },
    {
      "cell_type": "code",
      "execution_count": 35,
      "metadata": {
        "colab": {
          "base_uri": "https://localhost:8080/"
        },
        "id": "U7mYxbZvRKEz",
        "outputId": "36065509-7c54-4d7a-c479-5ae69533bd4e"
      },
      "outputs": [
        {
          "output_type": "stream",
          "name": "stderr",
          "text": [
            "<ipython-input-35-e2c9adc743d1>:12: DtypeWarning: Columns (15) have mixed types. Specify dtype option on import or set low_memory=False.\n",
            "  acidentes = pd.read_csv('/content/Acidentes_DadosAbertos_20230912.csv', sep=';')\n"
          ]
        },
        {
          "output_type": "stream",
          "name": "stdout",
          "text": [
            "Colunas do DataFrame 'acidentes': Index(['num_acidente', 'chv_localidade', 'data_acidente', 'uf_acidente',\n",
            "       'ano_acidente', 'mes_acidente', 'mes_ano_acidente', 'codigo_ibge',\n",
            "       'dia_semana', 'fase_dia', 'tp_acidente', 'cond_meteorologica',\n",
            "       'end_acidente', 'num_end_acidente', 'cep_acidente', 'bairro_acidente',\n",
            "       'km_via_acidente', 'latitude_acidente', 'longitude_acidente',\n",
            "       'hora_acidente', 'tp_rodovia', 'cond_pista', 'tp_cruzamento',\n",
            "       'tp_pavimento', 'tp_curva', 'lim_velocidade', 'tp_pista',\n",
            "       'ind_guardrail', 'ind_cantcentral', 'ind_acostamento', 'qtde_acidente',\n",
            "       'qtde_acid_com_obitos', 'qtde_envolvidos', 'qtde_feridosilesos',\n",
            "       'qtde_obitos'],\n",
            "      dtype='object')\n",
            "Colunas do DataFrame 'vitimas': Index(['num_acidente', 'chv_localidade', 'data_acidente', 'uf_acidente',\n",
            "       'ano_acidente', 'mes_acidente', 'mes_ano_acidente', 'faixa_idade',\n",
            "       'genero', 'tp_envolvido', 'gravidade_lesao', 'equip_seguranca',\n",
            "       'ind_motorista', 'susp_alcool', 'qtde_envolvidos', 'qtde_feridosilesos',\n",
            "       'qtde_obitos'],\n",
            "      dtype='object')\n",
            "Colunas do DataFrame 'tipoveiculo': Index(['num_acidente', 'tipo_veiculo', 'ind_veic_estrangeiro',\n",
            "       'qtde_veiculos'],\n",
            "      dtype='object')\n",
            "Colunas do DataFrame 'localidade': Index(['chv_localidade', 'ano_referencia', 'mes_referencia',\n",
            "       'mes_ano_referencia', 'regiao', 'uf', 'codigo_ibge', 'municipio',\n",
            "       'regiao_metropolitana', 'qtde_habitantes', 'frota_total',\n",
            "       'frota_circulante'],\n",
            "      dtype='object')\n"
          ]
        }
      ],
      "source": [
        "import zipfile\n",
        "import pandas as pd\n",
        "\n",
        "# Caminho do arquivo ZIP\n",
        "zip_file_path = '/content/renaest_dabertos.zip'\n",
        "\n",
        "# Descompactar o arquivo ZIP\n",
        "with zipfile.ZipFile(zip_file_path, 'r') as zip_ref:\n",
        "    zip_ref.extractall('/content/')\n",
        "\n",
        "# Carregar os arquivos CSV\n",
        "acidentes = pd.read_csv('/content/Acidentes_DadosAbertos_20230912.csv', sep=';')\n",
        "vitimas = pd.read_csv('/content/Vitimas_DadosAbertos_20230912.csv', sep=';')\n",
        "tipoveiculo = pd.read_csv('/content/TipoVeiculo_DadosAbertos_20230912.csv', sep=';')\n",
        "localidade = pd.read_csv('/content/Localidade_DadosAbertos_20230912.csv', sep=';')\n",
        "\n",
        "# Verificar as colunas para garantir que estamos usando os nomes corretos\n",
        "print(\"Colunas do DataFrame 'acidentes':\", acidentes.columns)\n",
        "print(\"Colunas do DataFrame 'vitimas':\", vitimas.columns)\n",
        "print(\"Colunas do DataFrame 'tipoveiculo':\", tipoveiculo.columns)\n",
        "print(\"Colunas do DataFrame 'localidade':\", localidade.columns)\n"
      ]
    },
    {
      "cell_type": "code",
      "source": [
        "print(tipoveiculo.columns)\n"
      ],
      "metadata": {
        "colab": {
          "base_uri": "https://localhost:8080/"
        },
        "id": "xSOZs8xheY7n",
        "outputId": "94af1a7d-ce55-4cea-f01c-7954cbd1e8fb"
      },
      "execution_count": 36,
      "outputs": [
        {
          "output_type": "stream",
          "name": "stdout",
          "text": [
            "Index(['num_acidente', 'tipo_veiculo', 'ind_veic_estrangeiro',\n",
            "       'qtde_veiculos'],\n",
            "      dtype='object')\n"
          ]
        }
      ]
    },
    {
      "cell_type": "markdown",
      "source": [
        "# Quais as cidades com mais acidentes?"
      ],
      "metadata": {
        "id": "rC1Li5ovZS8g"
      }
    },
    {
      "cell_type": "code",
      "source": [
        "# Filtrar dados para o estado do Mato Grosso\n",
        "acidentes_mt = acidentes[acidentes['uf_acidente'] == 'MT']\n",
        "\n",
        "# Contar o número de acidentes por cidade\n",
        "acidentes_por_cidade_mt = acidentes_mt['chv_localidade'].value_counts().reset_index()\n",
        "acidentes_por_cidade_mt.columns = ['chv_localidade', 'num_acidentes']\n",
        "\n",
        "# Merge com o DataFrame de localidades para obter o nome da cidade\n",
        "acidentes_por_cidade_mt = acidentes_por_cidade_mt.merge(localidade[['chv_localidade', 'municipio']], on='chv_localidade', how='left')\n",
        "\n",
        "print(acidentes_por_cidade_mt[['municipio', 'num_acidentes']].head(10))\n",
        "\n"
      ],
      "metadata": {
        "colab": {
          "base_uri": "https://localhost:8080/"
        },
        "id": "23RQ_7I2ZVnH",
        "outputId": "103d760b-56cc-42ce-a0b3-a33461f5e544"
      },
      "execution_count": 37,
      "outputs": [
        {
          "output_type": "stream",
          "name": "stdout",
          "text": [
            "  municipio  num_acidentes\n",
            "0    CUIABA            200\n",
            "1    CUIABA            195\n",
            "2    CUIABA            191\n",
            "3    CUIABA            189\n",
            "4    CUIABA            189\n",
            "5    CUIABA            177\n",
            "6    CUIABA            174\n",
            "7    CUIABA            174\n",
            "8    CUIABA            173\n",
            "9    CUIABA            172\n"
          ]
        }
      ]
    },
    {
      "cell_type": "markdown",
      "source": [
        "#  Quais as cidades com maior quantidade de acidentes por mil habitantes?"
      ],
      "metadata": {
        "id": "t1vDVIKQZgZF"
      }
    },
    {
      "cell_type": "code",
      "source": [
        "# Merge dos dados de acidentes com os dados de população\n",
        "acidentes_populacao_mt = pd.merge(acidentes_por_cidade_mt, localidade[['chv_localidade', 'qtde_habitantes']], on='chv_localidade')\n",
        "\n",
        "# Calcular acidentes por mil habitantes\n",
        "acidentes_populacao_mt['acidentes_por_mil_habitantes'] = (acidentes_populacao_mt['num_acidentes'] / acidentes_populacao_mt['qtde_habitantes']) * 1000\n",
        "acidentes_populacao_mt = acidentes_populacao_mt.sort_values(by='acidentes_por_mil_habitantes', ascending=False)\n",
        "\n",
        "print(acidentes_populacao_mt[['municipio', 'acidentes_por_mil_habitantes']].head(10))\n"
      ],
      "metadata": {
        "colab": {
          "base_uri": "https://localhost:8080/"
        },
        "id": "7aLxFCrEZiGF",
        "outputId": "b09c9a32-be1f-4f08-ef19-061b134a5088"
      },
      "execution_count": 38,
      "outputs": [
        {
          "output_type": "stream",
          "name": "stdout",
          "text": [
            "               municipio  acidentes_por_mil_habitantes\n",
            "548           RIO BRANCO                      1.157631\n",
            "899    PLANALTO DA SERRA                      1.129093\n",
            "1618          ARAGUAINHA                      1.088139\n",
            "304             CANARANA                      0.760694\n",
            "163      BARRA DO GARCAS                      0.756082\n",
            "683   PONTAL DO ARAGUAIA                      0.754262\n",
            "598   PONTAL DO ARAGUAIA                      0.751541\n",
            "166      BARRA DO GARCAS                      0.748379\n",
            "165      BARRA DO GARCAS                      0.738722\n",
            "544     BARAO DE MELGACO                      0.725602\n"
          ]
        }
      ]
    },
    {
      "cell_type": "markdown",
      "source": [
        "# Quais os dias da semana com mais acidentes?"
      ],
      "metadata": {
        "id": "GpTtyB4tZoOu"
      }
    },
    {
      "cell_type": "code",
      "source": [
        "\n",
        "if 'dia_semana' in acidentes_mt.columns:\n",
        "    # Contar o número de acidentes por dia da semana\n",
        "    acidentes_por_dia_mt = acidentes_mt['dia_semana'].value_counts().reset_index()\n",
        "    acidentes_por_dia_mt.columns = ['dia_semana', 'num_acidentes']\n",
        "    print(acidentes_por_dia_mt)\n",
        "else:\n",
        "    print(\"A coluna 'dia_semana' não está presente no DataFrame de acidentes.\")\n",
        "\n"
      ],
      "metadata": {
        "colab": {
          "base_uri": "https://localhost:8080/"
        },
        "id": "c5EJOkZvZp8F",
        "outputId": "5c03f0de-bd21-4ae9-9a50-2f0bd8ac592c"
      },
      "execution_count": 39,
      "outputs": [
        {
          "output_type": "stream",
          "name": "stdout",
          "text": [
            "      dia_semana  num_acidentes\n",
            "0         SABADO           4412\n",
            "1    SEXTA-FEIRA           3849\n",
            "2        DOMINGO           3640\n",
            "3   QUINTA-FEIRA           3453\n",
            "4  SEGUNDA-FEIRA           3377\n",
            "5   QUARTA-FEIRA           3365\n",
            "6    TERCA-FEIRA           3299\n"
          ]
        }
      ]
    },
    {
      "cell_type": "markdown",
      "source": [
        "#  Qual o percentual de acidentes causados por pessoas com embriaguez?"
      ],
      "metadata": {
        "id": "_WixkT0lZuQF"
      }
    },
    {
      "cell_type": "code",
      "source": [
        "# Filtrar acidentes causados por embriaguez\n",
        "acidentes_embriaguez_mt = acidentes_mt[acidentes_mt['tp_acidente'].str.contains('embriaguez', case=False, na=False)]\n",
        "percentual_embriaguez_mt = (len(acidentes_embriaguez_mt) / len(acidentes_mt)) * 100\n",
        "print(f'Percentual de acidentes causados por embriaguez: {percentual_embriaguez_mt:.2f}%')\n",
        "\n"
      ],
      "metadata": {
        "colab": {
          "base_uri": "https://localhost:8080/"
        },
        "id": "9XqF45gBZxlc",
        "outputId": "0099a119-eb85-47b9-a790-c41029d39108"
      },
      "execution_count": 40,
      "outputs": [
        {
          "output_type": "stream",
          "name": "stdout",
          "text": [
            "Percentual de acidentes causados por embriaguez: 0.00%\n"
          ]
        }
      ]
    },
    {
      "cell_type": "markdown",
      "source": [
        "# Quais são os números de acidentes por ano no estado do Mato Grosso?\n"
      ],
      "metadata": {
        "id": "Gm9mQJzkaK1w"
      }
    },
    {
      "cell_type": "code",
      "source": [
        "# Contar o número de acidentes por ano no estado do Mato Grosso\n",
        "acidentes_por_ano_mt = acidentes_mt['ano_acidente'].value_counts().reset_index()\n",
        "acidentes_por_ano_mt.columns = ['ano_acidente', 'num_acidentes']\n",
        "print(acidentes_por_ano_mt)\n"
      ],
      "metadata": {
        "colab": {
          "base_uri": "https://localhost:8080/"
        },
        "id": "cbjQEapjaMMw",
        "outputId": "2c3b25a6-1109-442e-c2e3-4deb7df19aaf"
      },
      "execution_count": 41,
      "outputs": [
        {
          "output_type": "stream",
          "name": "stdout",
          "text": [
            "   ano_acidente  num_acidentes\n",
            "0          2019           5431\n",
            "1          2022           5333\n",
            "2          2018           4833\n",
            "3          2021           4821\n",
            "4          2020           3777\n",
            "5          2023           1200\n"
          ]
        }
      ]
    },
    {
      "cell_type": "markdown",
      "source": [
        "# Quais são os tipos de acidentes mais comuns no estado do Mato Grosso:"
      ],
      "metadata": {
        "id": "rbIDcqvOgNGo"
      }
    },
    {
      "cell_type": "code",
      "source": [
        "\n",
        "if 'tp_acidente' in acidentes.columns:\n",
        "    # Contar o número de acidentes por tipo de acidente\n",
        "    acidentes_por_tipo_mt = acidentes_mt['tp_acidente'].value_counts().reset_index()\n",
        "    acidentes_por_tipo_mt.columns = ['tp_acidente', 'num_acidentes']\n",
        "\n",
        "    # Os 10 tipos de acidentes mais comuns\n",
        "    print(acidentes_por_tipo_mt.head(10))\n",
        "else:\n",
        "    print(\"A coluna 'tp_acidente' não está presente no DataFrame de acidentes.\")\n"
      ],
      "metadata": {
        "colab": {
          "base_uri": "https://localhost:8080/"
        },
        "id": "hDy69sEGgWEX",
        "outputId": "64b32e3c-4d9d-487c-f7df-e13ecaddbe8d"
      },
      "execution_count": 42,
      "outputs": [
        {
          "output_type": "stream",
          "name": "stdout",
          "text": [
            "                    tp_acidente  num_acidentes\n",
            "0                       COLISAO          16714\n",
            "1                  DESCONHECIDO           2183\n",
            "2                         QUEDA           1874\n",
            "3               COLISAO LATERAL            972\n",
            "4              COLISAO TRASEIRA            827\n",
            "5                        CHOQUE            796\n",
            "6    ATROPELAMENTO COM PEDESTRE            723\n",
            "7               COLISAO FRONTAL            662\n",
            "8  OUTROS ACIDENTES DE TRANSITO            191\n",
            "9                   CAPOTAMENTO            174\n"
          ]
        }
      ]
    },
    {
      "cell_type": "markdown",
      "source": [
        "# Quais são os números de acidentes por tipo de veículo no estado do Mato Grosso?"
      ],
      "metadata": {
        "id": "2Q1gG5mjggEe"
      }
    },
    {
      "cell_type": "code",
      "source": [
        "\n",
        "if 'tipo_veiculo' in tipoveiculo.columns:\n",
        "    # Merge dos dados de acidentes com o tipo de veículo\n",
        "    acidentes_veiculo_mt = pd.merge(acidentes_mt, tipoveiculo[['num_acidente', 'tipo_veiculo']], on='num_acidente', how='left')\n",
        "\n",
        "    # Contar o número de acidentes por tipo de veículo\n",
        "    acidentes_por_tipo_veiculo_mt = acidentes_veiculo_mt['tipo_veiculo'].value_counts().reset_index()\n",
        "    acidentes_por_tipo_veiculo_mt.columns = ['tipo_veiculo', 'num_acidentes']\n",
        "    print(acidentes_por_tipo_veiculo_mt)\n",
        "else:\n",
        "    print(\"A coluna 'tipo_veiculo' não está presente no DataFrame de veículos.\")\n"
      ],
      "metadata": {
        "colab": {
          "base_uri": "https://localhost:8080/"
        },
        "id": "IEEu8sCtgja1",
        "outputId": "3b86a0f2-6fda-4eae-be4c-60193d9bcf16"
      },
      "execution_count": 43,
      "outputs": [
        {
          "output_type": "stream",
          "name": "stdout",
          "text": [
            "    tipo_veiculo  num_acidentes\n",
            "0    MOTOCICLETA          10089\n",
            "1      AUTOMOVEL           7065\n",
            "2  NAO INFORMADO           2156\n",
            "3   DESCONHECIDO           1734\n",
            "4       CAMINHAO            891\n",
            "5    CAMINHONETE            857\n",
            "6      BICICLETA            548\n",
            "7         ONIBUS            144\n",
            "8         TRATOR              7\n"
          ]
        }
      ]
    }
  ]
}